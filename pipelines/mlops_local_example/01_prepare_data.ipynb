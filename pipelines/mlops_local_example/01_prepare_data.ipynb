{
 "cells": [
  {
   "cell_type": "code",
   "execution_count": 1,
   "id": "40c2bb40-80ef-4348-b8fe-76409a2494d3",
   "metadata": {
    "execution": {
     "iopub.execute_input": "2025-07-14T05:39:56.772087Z",
     "iopub.status.busy": "2025-07-14T05:39:56.771529Z",
     "iopub.status.idle": "2025-07-14T05:39:57.597341Z",
     "shell.execute_reply": "2025-07-14T05:39:57.596838Z",
     "shell.execute_reply.started": "2025-07-14T05:39:56.772064Z"
    }
   },
   "outputs": [
    {
     "name": "stdout",
     "output_type": "stream",
     "text": [
      "iris.csv 파일이 ./data/ 폴더에 생성되었습니다.\n"
     ]
    }
   ],
   "source": [
    "import pandas as pd\n",
    "from sklearn.datasets import load_iris\n",
    "import os\n",
    "\n",
    "os.makedirs('./data', exist_ok=True)\n",
    "iris = load_iris()\n",
    "df = pd.DataFrame(data=iris.data, columns=iris.feature_names)\n",
    "df['target'] = iris.target\n",
    "df.to_csv('./data/iris.csv', index=False)\n",
    "print('iris.csv 파일이 ./data/ 폴더에 생성되었습니다.')"
   ]
  },
  {
   "cell_type": "code",
   "execution_count": null,
   "id": "d0c18286-c168-446a-b849-2dd2691d274d",
   "metadata": {},
   "outputs": [],
   "source": []
  }
 ],
 "metadata": {
  "kernelspec": {
   "display_name": "Python 3 (ipykernel)",
   "language": "python",
   "name": "python3"
  },
  "language_info": {
   "codemirror_mode": {
    "name": "ipython",
    "version": 3
   },
   "file_extension": ".py",
   "mimetype": "text/x-python",
   "name": "python",
   "nbconvert_exporter": "python",
   "pygments_lexer": "ipython3",
   "version": "3.12.9"
  }
 },
 "nbformat": 4,
 "nbformat_minor": 5
}
